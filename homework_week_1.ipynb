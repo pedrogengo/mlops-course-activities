{
  "nbformat": 4,
  "nbformat_minor": 0,
  "metadata": {
    "colab": {
      "name": "homework-week-1",
      "provenance": [],
      "authorship_tag": "ABX9TyMu8tL4swlQc3s56sdUKn6Q",
      "include_colab_link": true
    },
    "kernelspec": {
      "name": "python3",
      "display_name": "Python 3"
    },
    "language_info": {
      "name": "python"
    }
  },
  "cells": [
    {
      "cell_type": "markdown",
      "metadata": {
        "id": "view-in-github",
        "colab_type": "text"
      },
      "source": [
        "<a href=\"https://colab.research.google.com/github/pedrogengo/mlops-course-activities/blob/main/homework_week_1.ipynb\" target=\"_parent\"><img src=\"https://colab.research.google.com/assets/colab-badge.svg\" alt=\"Open In Colab\"/></a>"
      ]
    },
    {
      "cell_type": "code",
      "execution_count": 1,
      "metadata": {
        "colab": {
          "base_uri": "https://localhost:8080/"
        },
        "id": "a9DAOg102Q7P",
        "outputId": "cc2bf3ab-c480-4386-eb37-c90e7bcf3c02"
      },
      "outputs": [
        {
          "output_type": "stream",
          "name": "stdout",
          "text": [
            "--2022-05-23 02:58:21--  https://nyc-tlc.s3.amazonaws.com/trip+data/fhv_tripdata_2021-01.parquet\n",
            "Resolving nyc-tlc.s3.amazonaws.com (nyc-tlc.s3.amazonaws.com)... 52.217.224.65\n",
            "Connecting to nyc-tlc.s3.amazonaws.com (nyc-tlc.s3.amazonaws.com)|52.217.224.65|:443... connected.\n",
            "HTTP request sent, awaiting response... 200 OK\n",
            "Length: 11886281 (11M) [binary/octet-stream]\n",
            "Saving to: ‘fhv_tripdata_2021-01.parquet’\n",
            "\n",
            "fhv_tripdata_2021-0 100%[===================>]  11.33M  52.1MB/s    in 0.2s    \n",
            "\n",
            "2022-05-23 02:58:21 (52.1 MB/s) - ‘fhv_tripdata_2021-01.parquet’ saved [11886281/11886281]\n",
            "\n"
          ]
        }
      ],
      "source": [
        "!wget https://nyc-tlc.s3.amazonaws.com/trip+data/fhv_tripdata_2021-01.parquet"
      ]
    },
    {
      "cell_type": "code",
      "source": [
        "import pandas as pd"
      ],
      "metadata": {
        "id": "R0zhwEUG2cDY"
      },
      "execution_count": 3,
      "outputs": []
    },
    {
      "cell_type": "code",
      "source": [
        "df = pd.read_parquet('/content/fhv_tripdata_2021-01.parquet')\n",
        "df.head()"
      ],
      "metadata": {
        "colab": {
          "base_uri": "https://localhost:8080/",
          "height": 250
        },
        "id": "XFsOAuSd2mry",
        "outputId": "f7e37cf2-2167-4e02-ca0a-e58664721878"
      },
      "execution_count": 4,
      "outputs": [
        {
          "output_type": "execute_result",
          "data": {
            "text/plain": [
              "  dispatching_base_num     pickup_datetime    dropOff_datetime  PUlocationID  \\\n",
              "0               B00009 2021-01-01 00:27:00 2021-01-01 00:44:00           NaN   \n",
              "1               B00009 2021-01-01 00:50:00 2021-01-01 01:07:00           NaN   \n",
              "2               B00013 2021-01-01 00:01:00 2021-01-01 01:51:00           NaN   \n",
              "3               B00037 2021-01-01 00:13:09 2021-01-01 00:21:26           NaN   \n",
              "4               B00037 2021-01-01 00:38:31 2021-01-01 00:53:44           NaN   \n",
              "\n",
              "   DOlocationID SR_Flag Affiliated_base_number  \n",
              "0           NaN    None                 B00009  \n",
              "1           NaN    None                 B00009  \n",
              "2           NaN    None                 B00013  \n",
              "3          72.0    None                 B00037  \n",
              "4          61.0    None                 B00037  "
            ],
            "text/html": [
              "\n",
              "  <div id=\"df-8c8cf3be-b9c5-4122-8a38-f2a206335361\">\n",
              "    <div class=\"colab-df-container\">\n",
              "      <div>\n",
              "<style scoped>\n",
              "    .dataframe tbody tr th:only-of-type {\n",
              "        vertical-align: middle;\n",
              "    }\n",
              "\n",
              "    .dataframe tbody tr th {\n",
              "        vertical-align: top;\n",
              "    }\n",
              "\n",
              "    .dataframe thead th {\n",
              "        text-align: right;\n",
              "    }\n",
              "</style>\n",
              "<table border=\"1\" class=\"dataframe\">\n",
              "  <thead>\n",
              "    <tr style=\"text-align: right;\">\n",
              "      <th></th>\n",
              "      <th>dispatching_base_num</th>\n",
              "      <th>pickup_datetime</th>\n",
              "      <th>dropOff_datetime</th>\n",
              "      <th>PUlocationID</th>\n",
              "      <th>DOlocationID</th>\n",
              "      <th>SR_Flag</th>\n",
              "      <th>Affiliated_base_number</th>\n",
              "    </tr>\n",
              "  </thead>\n",
              "  <tbody>\n",
              "    <tr>\n",
              "      <th>0</th>\n",
              "      <td>B00009</td>\n",
              "      <td>2021-01-01 00:27:00</td>\n",
              "      <td>2021-01-01 00:44:00</td>\n",
              "      <td>NaN</td>\n",
              "      <td>NaN</td>\n",
              "      <td>None</td>\n",
              "      <td>B00009</td>\n",
              "    </tr>\n",
              "    <tr>\n",
              "      <th>1</th>\n",
              "      <td>B00009</td>\n",
              "      <td>2021-01-01 00:50:00</td>\n",
              "      <td>2021-01-01 01:07:00</td>\n",
              "      <td>NaN</td>\n",
              "      <td>NaN</td>\n",
              "      <td>None</td>\n",
              "      <td>B00009</td>\n",
              "    </tr>\n",
              "    <tr>\n",
              "      <th>2</th>\n",
              "      <td>B00013</td>\n",
              "      <td>2021-01-01 00:01:00</td>\n",
              "      <td>2021-01-01 01:51:00</td>\n",
              "      <td>NaN</td>\n",
              "      <td>NaN</td>\n",
              "      <td>None</td>\n",
              "      <td>B00013</td>\n",
              "    </tr>\n",
              "    <tr>\n",
              "      <th>3</th>\n",
              "      <td>B00037</td>\n",
              "      <td>2021-01-01 00:13:09</td>\n",
              "      <td>2021-01-01 00:21:26</td>\n",
              "      <td>NaN</td>\n",
              "      <td>72.0</td>\n",
              "      <td>None</td>\n",
              "      <td>B00037</td>\n",
              "    </tr>\n",
              "    <tr>\n",
              "      <th>4</th>\n",
              "      <td>B00037</td>\n",
              "      <td>2021-01-01 00:38:31</td>\n",
              "      <td>2021-01-01 00:53:44</td>\n",
              "      <td>NaN</td>\n",
              "      <td>61.0</td>\n",
              "      <td>None</td>\n",
              "      <td>B00037</td>\n",
              "    </tr>\n",
              "  </tbody>\n",
              "</table>\n",
              "</div>\n",
              "      <button class=\"colab-df-convert\" onclick=\"convertToInteractive('df-8c8cf3be-b9c5-4122-8a38-f2a206335361')\"\n",
              "              title=\"Convert this dataframe to an interactive table.\"\n",
              "              style=\"display:none;\">\n",
              "        \n",
              "  <svg xmlns=\"http://www.w3.org/2000/svg\" height=\"24px\"viewBox=\"0 0 24 24\"\n",
              "       width=\"24px\">\n",
              "    <path d=\"M0 0h24v24H0V0z\" fill=\"none\"/>\n",
              "    <path d=\"M18.56 5.44l.94 2.06.94-2.06 2.06-.94-2.06-.94-.94-2.06-.94 2.06-2.06.94zm-11 1L8.5 8.5l.94-2.06 2.06-.94-2.06-.94L8.5 2.5l-.94 2.06-2.06.94zm10 10l.94 2.06.94-2.06 2.06-.94-2.06-.94-.94-2.06-.94 2.06-2.06.94z\"/><path d=\"M17.41 7.96l-1.37-1.37c-.4-.4-.92-.59-1.43-.59-.52 0-1.04.2-1.43.59L10.3 9.45l-7.72 7.72c-.78.78-.78 2.05 0 2.83L4 21.41c.39.39.9.59 1.41.59.51 0 1.02-.2 1.41-.59l7.78-7.78 2.81-2.81c.8-.78.8-2.07 0-2.86zM5.41 20L4 18.59l7.72-7.72 1.47 1.35L5.41 20z\"/>\n",
              "  </svg>\n",
              "      </button>\n",
              "      \n",
              "  <style>\n",
              "    .colab-df-container {\n",
              "      display:flex;\n",
              "      flex-wrap:wrap;\n",
              "      gap: 12px;\n",
              "    }\n",
              "\n",
              "    .colab-df-convert {\n",
              "      background-color: #E8F0FE;\n",
              "      border: none;\n",
              "      border-radius: 50%;\n",
              "      cursor: pointer;\n",
              "      display: none;\n",
              "      fill: #1967D2;\n",
              "      height: 32px;\n",
              "      padding: 0 0 0 0;\n",
              "      width: 32px;\n",
              "    }\n",
              "\n",
              "    .colab-df-convert:hover {\n",
              "      background-color: #E2EBFA;\n",
              "      box-shadow: 0px 1px 2px rgba(60, 64, 67, 0.3), 0px 1px 3px 1px rgba(60, 64, 67, 0.15);\n",
              "      fill: #174EA6;\n",
              "    }\n",
              "\n",
              "    [theme=dark] .colab-df-convert {\n",
              "      background-color: #3B4455;\n",
              "      fill: #D2E3FC;\n",
              "    }\n",
              "\n",
              "    [theme=dark] .colab-df-convert:hover {\n",
              "      background-color: #434B5C;\n",
              "      box-shadow: 0px 1px 3px 1px rgba(0, 0, 0, 0.15);\n",
              "      filter: drop-shadow(0px 1px 2px rgba(0, 0, 0, 0.3));\n",
              "      fill: #FFFFFF;\n",
              "    }\n",
              "  </style>\n",
              "\n",
              "      <script>\n",
              "        const buttonEl =\n",
              "          document.querySelector('#df-8c8cf3be-b9c5-4122-8a38-f2a206335361 button.colab-df-convert');\n",
              "        buttonEl.style.display =\n",
              "          google.colab.kernel.accessAllowed ? 'block' : 'none';\n",
              "\n",
              "        async function convertToInteractive(key) {\n",
              "          const element = document.querySelector('#df-8c8cf3be-b9c5-4122-8a38-f2a206335361');\n",
              "          const dataTable =\n",
              "            await google.colab.kernel.invokeFunction('convertToInteractive',\n",
              "                                                     [key], {});\n",
              "          if (!dataTable) return;\n",
              "\n",
              "          const docLinkHtml = 'Like what you see? Visit the ' +\n",
              "            '<a target=\"_blank\" href=https://colab.research.google.com/notebooks/data_table.ipynb>data table notebook</a>'\n",
              "            + ' to learn more about interactive tables.';\n",
              "          element.innerHTML = '';\n",
              "          dataTable['output_type'] = 'display_data';\n",
              "          await google.colab.output.renderOutput(dataTable, element);\n",
              "          const docLink = document.createElement('div');\n",
              "          docLink.innerHTML = docLinkHtml;\n",
              "          element.appendChild(docLink);\n",
              "        }\n",
              "      </script>\n",
              "    </div>\n",
              "  </div>\n",
              "  "
            ]
          },
          "metadata": {},
          "execution_count": 4
        }
      ]
    },
    {
      "cell_type": "markdown",
      "source": [
        "## Q1\n",
        "\n",
        "How many records are on the file?"
      ],
      "metadata": {
        "id": "N84tHstF2xyt"
      }
    },
    {
      "cell_type": "code",
      "source": [
        "len(df)"
      ],
      "metadata": {
        "colab": {
          "base_uri": "https://localhost:8080/"
        },
        "id": "FWQy2yaY24Bl",
        "outputId": "2b790564-9659-41ec-b102-d769521b9263"
      },
      "execution_count": 5,
      "outputs": [
        {
          "output_type": "execute_result",
          "data": {
            "text/plain": [
              "1154112"
            ]
          },
          "metadata": {},
          "execution_count": 5
        }
      ]
    },
    {
      "cell_type": "markdown",
      "source": [
        "## Q2\n",
        "\n",
        "What's the average trip duration in January?"
      ],
      "metadata": {
        "id": "4QnvIqni246h"
      }
    },
    {
      "cell_type": "code",
      "source": [
        "df['duration'] = df['dropOff_datetime'] - df['pickup_datetime']\n",
        "df['duration'] = df['duration'].apply(lambda x: x.total_seconds() / 60)"
      ],
      "metadata": {
        "id": "RvyUq2iD3BFn"
      },
      "execution_count": 6,
      "outputs": []
    },
    {
      "cell_type": "code",
      "source": [
        "df['duration'].mean()"
      ],
      "metadata": {
        "colab": {
          "base_uri": "https://localhost:8080/"
        },
        "id": "KXBTY6WQ3JtA",
        "outputId": "6525b109-1567-4e1f-9df6-5b53155f349e"
      },
      "execution_count": 7,
      "outputs": [
        {
          "output_type": "execute_result",
          "data": {
            "text/plain": [
              "19.1672240937939"
            ]
          },
          "metadata": {},
          "execution_count": 7
        }
      ]
    },
    {
      "cell_type": "markdown",
      "source": [
        "## Data preparation"
      ],
      "metadata": {
        "id": "aNjhEcKP4FYP"
      }
    },
    {
      "cell_type": "code",
      "source": [
        "df = df[(df['duration'] <= 60) & (df['duration'] >= 1)]"
      ],
      "metadata": {
        "id": "KcrpcmYk4HW-"
      },
      "execution_count": 8,
      "outputs": []
    },
    {
      "cell_type": "markdown",
      "source": [
        "## Q3\n",
        "\n",
        "What's the fractions of missing values for the pickup location ID?"
      ],
      "metadata": {
        "id": "oLYjzfq33MI0"
      }
    },
    {
      "cell_type": "code",
      "source": [
        "df['PUlocationID'].isna().sum() / len(df)"
      ],
      "metadata": {
        "colab": {
          "base_uri": "https://localhost:8080/"
        },
        "id": "kaT6KOIu4QzD",
        "outputId": "4ccd037f-9918-4901-a042-450dc8e3c52a"
      },
      "execution_count": 9,
      "outputs": [
        {
          "output_type": "execute_result",
          "data": {
            "text/plain": [
              "0.8352732770722617"
            ]
          },
          "metadata": {},
          "execution_count": 9
        }
      ]
    },
    {
      "cell_type": "code",
      "source": [
        "df['PUlocationID'] = df['PUlocationID'].fillna(-1)\n",
        "df['DOlocationID'] = df['DOlocationID'].fillna(-1)"
      ],
      "metadata": {
        "id": "VHUh3_YI4XsG"
      },
      "execution_count": 10,
      "outputs": []
    },
    {
      "cell_type": "code",
      "source": [
        "df_model = df[['PUlocationID', 'DOlocationID', 'duration']].copy()"
      ],
      "metadata": {
        "id": "_gFwZlOQ4rmd"
      },
      "execution_count": 11,
      "outputs": []
    },
    {
      "cell_type": "markdown",
      "source": [
        "## Q4\n",
        "Let's apply one-hot encoding to the pickup and dropoff location IDs. We'll use only these two features for our model.\n",
        "\n",
        "- Turn the dataframe into a list of dictionaries\n",
        "- Fit a dictionary vectorizer\n",
        "- Get a feature matrix from it\n",
        "\n",
        "What's the dimensionality of this matrix? (The number of columns)."
      ],
      "metadata": {
        "id": "OgSTw65d47LU"
      }
    },
    {
      "cell_type": "code",
      "source": [
        "from sklearn.feature_extraction import DictVectorizer"
      ],
      "metadata": {
        "id": "U8Q2_N4B5BMd"
      },
      "execution_count": 12,
      "outputs": []
    },
    {
      "cell_type": "code",
      "source": [
        "df_model[['PUlocationID', 'DOlocationID']] = df_model[['PUlocationID', 'DOlocationID']].astype(str)"
      ],
      "metadata": {
        "id": "AT5CpWWq5d6c"
      },
      "execution_count": 13,
      "outputs": []
    },
    {
      "cell_type": "code",
      "source": [
        "train_dicts = df_model[['PUlocationID', 'DOlocationID']].to_dict(orient='records')"
      ],
      "metadata": {
        "id": "a0iRz8S65oOr"
      },
      "execution_count": 14,
      "outputs": []
    },
    {
      "cell_type": "code",
      "source": [
        "dv = DictVectorizer()\n",
        "X_train = dv.fit_transform(train_dicts)"
      ],
      "metadata": {
        "id": "i19a3J6f5z5h"
      },
      "execution_count": 15,
      "outputs": []
    },
    {
      "cell_type": "code",
      "source": [
        "len(dv.feature_names_)"
      ],
      "metadata": {
        "colab": {
          "base_uri": "https://localhost:8080/"
        },
        "id": "tuMaOhzh516b",
        "outputId": "803d160c-ad4d-471c-d48b-7c0d71dd551f"
      },
      "execution_count": 16,
      "outputs": [
        {
          "output_type": "execute_result",
          "data": {
            "text/plain": [
              "525"
            ]
          },
          "metadata": {},
          "execution_count": 16
        }
      ]
    },
    {
      "cell_type": "markdown",
      "source": [
        "## Q5\n",
        "\n",
        "Now let's use the feature matrix from the previous step to train a model.\n",
        "\n",
        "- Train a plain linear regression model with default parameters\n",
        "- Calculate the RMSE of the model on the training data\n",
        "\n",
        "What's the RMSE on train?"
      ],
      "metadata": {
        "id": "0Z1fKe446UWh"
      }
    },
    {
      "cell_type": "code",
      "source": [
        "import numpy as np\n",
        "from sklearn.linear_model import LinearRegression\n",
        "from sklearn.metrics import mean_squared_error"
      ],
      "metadata": {
        "id": "joyD1r1764li"
      },
      "execution_count": 17,
      "outputs": []
    },
    {
      "cell_type": "code",
      "source": [
        "target = df['duration']"
      ],
      "metadata": {
        "id": "PTiDv3dD7UzC"
      },
      "execution_count": 18,
      "outputs": []
    },
    {
      "cell_type": "code",
      "source": [
        "rg = LinearRegression()\n",
        "rg.fit(X_train, target)"
      ],
      "metadata": {
        "colab": {
          "base_uri": "https://localhost:8080/"
        },
        "id": "8zu2PZAD7IcY",
        "outputId": "bb1750db-4d26-45cd-f9ca-8ebe9ff34100"
      },
      "execution_count": 19,
      "outputs": [
        {
          "output_type": "execute_result",
          "data": {
            "text/plain": [
              "LinearRegression()"
            ]
          },
          "metadata": {},
          "execution_count": 19
        }
      ]
    },
    {
      "cell_type": "code",
      "source": [
        "np.sqrt(mean_squared_error(target, rg.predict(X_train)))"
      ],
      "metadata": {
        "colab": {
          "base_uri": "https://localhost:8080/"
        },
        "id": "NZqr7-FC7aoA",
        "outputId": "6c843b57-68c3-459d-ea98-664d01f2338e"
      },
      "execution_count": 20,
      "outputs": [
        {
          "output_type": "execute_result",
          "data": {
            "text/plain": [
              "10.528519107210744"
            ]
          },
          "metadata": {},
          "execution_count": 20
        }
      ]
    },
    {
      "cell_type": "markdown",
      "source": [
        "## Q6\n",
        "\n",
        "Now let's apply this model to the validation dataset (Feb 2021).\n",
        "\n",
        "What's the RMSE on validation?"
      ],
      "metadata": {
        "id": "x2rgk2b47tKO"
      }
    },
    {
      "cell_type": "code",
      "source": [
        "!wget https://nyc-tlc.s3.amazonaws.com/trip+data/fhv_tripdata_2021-02.parquet"
      ],
      "metadata": {
        "colab": {
          "base_uri": "https://localhost:8080/"
        },
        "id": "JJr27INE70Ii",
        "outputId": "ff885569-0db1-458b-8129-d852d873f8bb"
      },
      "execution_count": 21,
      "outputs": [
        {
          "output_type": "stream",
          "name": "stdout",
          "text": [
            "--2022-05-23 03:22:27--  https://nyc-tlc.s3.amazonaws.com/trip+data/fhv_tripdata_2021-02.parquet\n",
            "Resolving nyc-tlc.s3.amazonaws.com (nyc-tlc.s3.amazonaws.com)... 52.217.174.73\n",
            "Connecting to nyc-tlc.s3.amazonaws.com (nyc-tlc.s3.amazonaws.com)|52.217.174.73|:443... connected.\n",
            "HTTP request sent, awaiting response... 200 OK\n",
            "Length: 10645466 (10M) [binary/octet-stream]\n",
            "Saving to: ‘fhv_tripdata_2021-02.parquet’\n",
            "\n",
            "fhv_tripdata_2021-0 100%[===================>]  10.15M  48.8MB/s    in 0.2s    \n",
            "\n",
            "2022-05-23 03:22:27 (48.8 MB/s) - ‘fhv_tripdata_2021-02.parquet’ saved [10645466/10645466]\n",
            "\n"
          ]
        }
      ]
    },
    {
      "cell_type": "code",
      "source": [
        "df_test = pd.read_parquet('/content/fhv_tripdata_2021-02.parquet')\n",
        "df_test.head()"
      ],
      "metadata": {
        "colab": {
          "base_uri": "https://localhost:8080/",
          "height": 250
        },
        "id": "HG8X9id77_xt",
        "outputId": "9132e04e-1dd0-445d-c83c-ad12d9e24d8c"
      },
      "execution_count": 30,
      "outputs": [
        {
          "output_type": "execute_result",
          "data": {
            "text/plain": [
              "  dispatching_base_num     pickup_datetime    dropOff_datetime  PUlocationID  \\\n",
              "0               B00013 2021-02-01 00:01:00 2021-02-01 01:33:00           NaN   \n",
              "1      B00021          2021-02-01 00:55:40 2021-02-01 01:06:20         173.0   \n",
              "2      B00021          2021-02-01 00:14:03 2021-02-01 00:28:37         173.0   \n",
              "3      B00021          2021-02-01 00:27:48 2021-02-01 00:35:45          82.0   \n",
              "4               B00037 2021-02-01 00:12:50 2021-02-01 00:26:38           NaN   \n",
              "\n",
              "   DOlocationID SR_Flag Affiliated_base_number  \n",
              "0           NaN    None                 B00014  \n",
              "1          82.0    None        B00021           \n",
              "2          56.0    None        B00021           \n",
              "3         129.0    None        B00021           \n",
              "4         225.0    None                 B00037  "
            ],
            "text/html": [
              "\n",
              "  <div id=\"df-4fcb7483-74af-4d8f-b234-c99d75f9c787\">\n",
              "    <div class=\"colab-df-container\">\n",
              "      <div>\n",
              "<style scoped>\n",
              "    .dataframe tbody tr th:only-of-type {\n",
              "        vertical-align: middle;\n",
              "    }\n",
              "\n",
              "    .dataframe tbody tr th {\n",
              "        vertical-align: top;\n",
              "    }\n",
              "\n",
              "    .dataframe thead th {\n",
              "        text-align: right;\n",
              "    }\n",
              "</style>\n",
              "<table border=\"1\" class=\"dataframe\">\n",
              "  <thead>\n",
              "    <tr style=\"text-align: right;\">\n",
              "      <th></th>\n",
              "      <th>dispatching_base_num</th>\n",
              "      <th>pickup_datetime</th>\n",
              "      <th>dropOff_datetime</th>\n",
              "      <th>PUlocationID</th>\n",
              "      <th>DOlocationID</th>\n",
              "      <th>SR_Flag</th>\n",
              "      <th>Affiliated_base_number</th>\n",
              "    </tr>\n",
              "  </thead>\n",
              "  <tbody>\n",
              "    <tr>\n",
              "      <th>0</th>\n",
              "      <td>B00013</td>\n",
              "      <td>2021-02-01 00:01:00</td>\n",
              "      <td>2021-02-01 01:33:00</td>\n",
              "      <td>NaN</td>\n",
              "      <td>NaN</td>\n",
              "      <td>None</td>\n",
              "      <td>B00014</td>\n",
              "    </tr>\n",
              "    <tr>\n",
              "      <th>1</th>\n",
              "      <td>B00021</td>\n",
              "      <td>2021-02-01 00:55:40</td>\n",
              "      <td>2021-02-01 01:06:20</td>\n",
              "      <td>173.0</td>\n",
              "      <td>82.0</td>\n",
              "      <td>None</td>\n",
              "      <td>B00021</td>\n",
              "    </tr>\n",
              "    <tr>\n",
              "      <th>2</th>\n",
              "      <td>B00021</td>\n",
              "      <td>2021-02-01 00:14:03</td>\n",
              "      <td>2021-02-01 00:28:37</td>\n",
              "      <td>173.0</td>\n",
              "      <td>56.0</td>\n",
              "      <td>None</td>\n",
              "      <td>B00021</td>\n",
              "    </tr>\n",
              "    <tr>\n",
              "      <th>3</th>\n",
              "      <td>B00021</td>\n",
              "      <td>2021-02-01 00:27:48</td>\n",
              "      <td>2021-02-01 00:35:45</td>\n",
              "      <td>82.0</td>\n",
              "      <td>129.0</td>\n",
              "      <td>None</td>\n",
              "      <td>B00021</td>\n",
              "    </tr>\n",
              "    <tr>\n",
              "      <th>4</th>\n",
              "      <td>B00037</td>\n",
              "      <td>2021-02-01 00:12:50</td>\n",
              "      <td>2021-02-01 00:26:38</td>\n",
              "      <td>NaN</td>\n",
              "      <td>225.0</td>\n",
              "      <td>None</td>\n",
              "      <td>B00037</td>\n",
              "    </tr>\n",
              "  </tbody>\n",
              "</table>\n",
              "</div>\n",
              "      <button class=\"colab-df-convert\" onclick=\"convertToInteractive('df-4fcb7483-74af-4d8f-b234-c99d75f9c787')\"\n",
              "              title=\"Convert this dataframe to an interactive table.\"\n",
              "              style=\"display:none;\">\n",
              "        \n",
              "  <svg xmlns=\"http://www.w3.org/2000/svg\" height=\"24px\"viewBox=\"0 0 24 24\"\n",
              "       width=\"24px\">\n",
              "    <path d=\"M0 0h24v24H0V0z\" fill=\"none\"/>\n",
              "    <path d=\"M18.56 5.44l.94 2.06.94-2.06 2.06-.94-2.06-.94-.94-2.06-.94 2.06-2.06.94zm-11 1L8.5 8.5l.94-2.06 2.06-.94-2.06-.94L8.5 2.5l-.94 2.06-2.06.94zm10 10l.94 2.06.94-2.06 2.06-.94-2.06-.94-.94-2.06-.94 2.06-2.06.94z\"/><path d=\"M17.41 7.96l-1.37-1.37c-.4-.4-.92-.59-1.43-.59-.52 0-1.04.2-1.43.59L10.3 9.45l-7.72 7.72c-.78.78-.78 2.05 0 2.83L4 21.41c.39.39.9.59 1.41.59.51 0 1.02-.2 1.41-.59l7.78-7.78 2.81-2.81c.8-.78.8-2.07 0-2.86zM5.41 20L4 18.59l7.72-7.72 1.47 1.35L5.41 20z\"/>\n",
              "  </svg>\n",
              "      </button>\n",
              "      \n",
              "  <style>\n",
              "    .colab-df-container {\n",
              "      display:flex;\n",
              "      flex-wrap:wrap;\n",
              "      gap: 12px;\n",
              "    }\n",
              "\n",
              "    .colab-df-convert {\n",
              "      background-color: #E8F0FE;\n",
              "      border: none;\n",
              "      border-radius: 50%;\n",
              "      cursor: pointer;\n",
              "      display: none;\n",
              "      fill: #1967D2;\n",
              "      height: 32px;\n",
              "      padding: 0 0 0 0;\n",
              "      width: 32px;\n",
              "    }\n",
              "\n",
              "    .colab-df-convert:hover {\n",
              "      background-color: #E2EBFA;\n",
              "      box-shadow: 0px 1px 2px rgba(60, 64, 67, 0.3), 0px 1px 3px 1px rgba(60, 64, 67, 0.15);\n",
              "      fill: #174EA6;\n",
              "    }\n",
              "\n",
              "    [theme=dark] .colab-df-convert {\n",
              "      background-color: #3B4455;\n",
              "      fill: #D2E3FC;\n",
              "    }\n",
              "\n",
              "    [theme=dark] .colab-df-convert:hover {\n",
              "      background-color: #434B5C;\n",
              "      box-shadow: 0px 1px 3px 1px rgba(0, 0, 0, 0.15);\n",
              "      filter: drop-shadow(0px 1px 2px rgba(0, 0, 0, 0.3));\n",
              "      fill: #FFFFFF;\n",
              "    }\n",
              "  </style>\n",
              "\n",
              "      <script>\n",
              "        const buttonEl =\n",
              "          document.querySelector('#df-4fcb7483-74af-4d8f-b234-c99d75f9c787 button.colab-df-convert');\n",
              "        buttonEl.style.display =\n",
              "          google.colab.kernel.accessAllowed ? 'block' : 'none';\n",
              "\n",
              "        async function convertToInteractive(key) {\n",
              "          const element = document.querySelector('#df-4fcb7483-74af-4d8f-b234-c99d75f9c787');\n",
              "          const dataTable =\n",
              "            await google.colab.kernel.invokeFunction('convertToInteractive',\n",
              "                                                     [key], {});\n",
              "          if (!dataTable) return;\n",
              "\n",
              "          const docLinkHtml = 'Like what you see? Visit the ' +\n",
              "            '<a target=\"_blank\" href=https://colab.research.google.com/notebooks/data_table.ipynb>data table notebook</a>'\n",
              "            + ' to learn more about interactive tables.';\n",
              "          element.innerHTML = '';\n",
              "          dataTable['output_type'] = 'display_data';\n",
              "          await google.colab.output.renderOutput(dataTable, element);\n",
              "          const docLink = document.createElement('div');\n",
              "          docLink.innerHTML = docLinkHtml;\n",
              "          element.appendChild(docLink);\n",
              "        }\n",
              "      </script>\n",
              "    </div>\n",
              "  </div>\n",
              "  "
            ]
          },
          "metadata": {},
          "execution_count": 30
        }
      ]
    },
    {
      "cell_type": "code",
      "source": [
        "df_test['duration'] = df_test['dropOff_datetime'] - df_test['pickup_datetime']\n",
        "df_test['duration'] = df_test['duration'].apply(lambda x: x.total_seconds() / 60)"
      ],
      "metadata": {
        "id": "ifrSpIax8Ehu"
      },
      "execution_count": 31,
      "outputs": []
    },
    {
      "cell_type": "code",
      "source": [
        "df_test = df_test[(df_test['duration'] <= 60) & (df_test['duration'] >= 1)]"
      ],
      "metadata": {
        "id": "3x_Rhe6j-N9C"
      },
      "execution_count": 32,
      "outputs": []
    },
    {
      "cell_type": "code",
      "source": [
        "df_test['PUlocationID'] = df_test['PUlocationID'].fillna(-1)\n",
        "df_test['DOlocationID'] = df_test['DOlocationID'].fillna(-1)"
      ],
      "metadata": {
        "colab": {
          "base_uri": "https://localhost:8080/"
        },
        "id": "7QS0vCmy8MWi",
        "outputId": "8785257a-91dd-47a5-868e-a487e03d9c0c"
      },
      "execution_count": 33,
      "outputs": [
        {
          "output_type": "stream",
          "name": "stderr",
          "text": [
            "/usr/local/lib/python3.7/dist-packages/ipykernel_launcher.py:1: SettingWithCopyWarning: \n",
            "A value is trying to be set on a copy of a slice from a DataFrame.\n",
            "Try using .loc[row_indexer,col_indexer] = value instead\n",
            "\n",
            "See the caveats in the documentation: https://pandas.pydata.org/pandas-docs/stable/user_guide/indexing.html#returning-a-view-versus-a-copy\n",
            "  \"\"\"Entry point for launching an IPython kernel.\n",
            "/usr/local/lib/python3.7/dist-packages/ipykernel_launcher.py:2: SettingWithCopyWarning: \n",
            "A value is trying to be set on a copy of a slice from a DataFrame.\n",
            "Try using .loc[row_indexer,col_indexer] = value instead\n",
            "\n",
            "See the caveats in the documentation: https://pandas.pydata.org/pandas-docs/stable/user_guide/indexing.html#returning-a-view-versus-a-copy\n",
            "  \n"
          ]
        }
      ]
    },
    {
      "cell_type": "code",
      "source": [
        "df_test[['PUlocationID', 'DOlocationID']] = df_test[['PUlocationID', 'DOlocationID']].astype(str)"
      ],
      "metadata": {
        "id": "XM_XE0tD8RNA"
      },
      "execution_count": 34,
      "outputs": []
    },
    {
      "cell_type": "code",
      "source": [
        "df_test_clean = df_test[['PUlocationID', 'DOlocationID', 'duration']].copy()"
      ],
      "metadata": {
        "id": "a3c_aaFV8Xbb"
      },
      "execution_count": 35,
      "outputs": []
    },
    {
      "cell_type": "code",
      "source": [
        "test_dicts = df_test_clean[['PUlocationID', 'DOlocationID']].to_dict(orient='records')"
      ],
      "metadata": {
        "id": "-iV2wmPh8b5A"
      },
      "execution_count": 36,
      "outputs": []
    },
    {
      "cell_type": "code",
      "source": [
        "X_test = dv.transform(test_dicts)"
      ],
      "metadata": {
        "id": "qVtS8II88gA7"
      },
      "execution_count": 37,
      "outputs": []
    },
    {
      "cell_type": "code",
      "source": [
        "np.sqrt(mean_squared_error(df_test_clean['duration'], rg.predict(X_test)))"
      ],
      "metadata": {
        "colab": {
          "base_uri": "https://localhost:8080/"
        },
        "id": "aGUCTtek8kn6",
        "outputId": "88873a15-ef16-49f7-ebd0-370ca0ce7150"
      },
      "execution_count": 38,
      "outputs": [
        {
          "output_type": "execute_result",
          "data": {
            "text/plain": [
              "11.014283196111764"
            ]
          },
          "metadata": {},
          "execution_count": 38
        }
      ]
    }
  ]
}